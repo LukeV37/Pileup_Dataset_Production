{
 "cells": [
  {
   "cell_type": "code",
   "execution_count": 1,
   "id": "958062f4",
   "metadata": {},
   "outputs": [],
   "source": [
    "import uproot\n",
    "import numpy as np\n",
    "import awkward as ak\n",
    "import matplotlib.pyplot as plt"
   ]
  },
  {
   "cell_type": "code",
   "execution_count": 2,
   "id": "ca2f2374",
   "metadata": {},
   "outputs": [],
   "source": [
    "# Read ROOT file and store data into awkward array\n",
    "with uproot.open(\"dataset_mu0.root:fastjet\") as f:\n",
    "    trk_d0_mu0 = f[\"trk_d0\"].array()\n",
    "    trk_z0_mu0 = f[\"trk_z0\"].array()\n",
    "    trk_label_mu0 = f[\"trk_label\"].array()\n",
    "with uproot.open(\"dataset_mu60.root:fastjet\") as f:\n",
    "    trk_d0_mu60 = f[\"trk_d0\"].array()\n",
    "    trk_z0_mu60 = f[\"trk_z0\"].array()\n",
    "    trk_label_mu60 = f[\"trk_label\"].array()"
   ]
  },
  {
   "cell_type": "code",
   "execution_count": 3,
   "id": "9fda7b48",
   "metadata": {},
   "outputs": [],
   "source": [
    "# Find where label is HS and PU\n",
    "# Generate boolean mask mu=0\n",
    "HS_mask_mu0 = (trk_label_mu0==-1)\n",
    "PU_mask_mu0 = (trk_label_mu0!=-1)\n",
    "# Generate boolean mask mu=60\n",
    "HS_mask_mu60 = (trk_label_mu60==-1)\n",
    "PU_mask_mu60 = (trk_label_mu60!=-1)"
   ]
  },
  {
   "cell_type": "code",
   "execution_count": 4,
   "id": "56635f32",
   "metadata": {},
   "outputs": [
    {
     "name": "stdout",
     "output_type": "stream",
     "text": [
      "μ=0\n",
      "[[-1, -1, -1, -1, -1, -1, -1, -1, -1, ..., -1, -1, -1, -1, -1, -1, -1, -1], ...]\n",
      "[[], [], [], [], [], [], [], [], [], ..., [], [], [], [], [], [], [], [], []]\n",
      "\n",
      "μ=60\n",
      "[[-1, -1, -1, -1, -1, -1, -1, -1, -1, ..., -1, -1, -1, -1, -1, -1, -1, -1], ...]\n",
      "[[26, 56, 26, 55, 56, 52, 55, 14, 40, ..., 34, 55, 44, 54, 6, 34, 26, 52], ...]\n"
     ]
    }
   ],
   "source": [
    "# Verfiy Mask is working\n",
    "print(\"\\u03BC=0\")\n",
    "print(trk_label_mu0[HS_mask_mu0])\n",
    "print(trk_label_mu0[PU_mask_mu0])\n",
    "print()\n",
    "print(\"\\u03BC=60\")\n",
    "print(trk_label_mu60[HS_mask_mu60])\n",
    "print(trk_label_mu60[PU_mask_mu60])"
   ]
  },
  {
   "cell_type": "code",
   "execution_count": 5,
   "id": "20be6382",
   "metadata": {},
   "outputs": [],
   "source": [
    "# Apply mask to separate HS and PU mu=0\n",
    "HS_d0_mu0 = trk_d0_mu0[HS_mask_mu0]\n",
    "HS_z0_mu0 = trk_d0_mu0[HS_mask_mu0]\n",
    "PU_d0_mu0 = trk_d0_mu0[PU_mask_mu0]\n",
    "PU_z0_mu0 = trk_d0_mu0[PU_mask_mu0]\n",
    "# Apply mask to separate HS and PU mu=60\n",
    "HS_d0_mu60 = trk_d0_mu60[HS_mask_mu60]\n",
    "HS_z0_mu60 = trk_d0_mu60[HS_mask_mu60]\n",
    "PU_d0_mu60 = trk_d0_mu60[PU_mask_mu60]\n",
    "PU_z0_mu60 = trk_d0_mu60[PU_mask_mu60]"
   ]
  },
  {
   "cell_type": "code",
   "execution_count": 6,
   "id": "364dbeb9",
   "metadata": {},
   "outputs": [],
   "source": [
    "# Flatten the arrays before plotting mu=60\n",
    "HS_d0_mu0 = ak.flatten(HS_d0_mu0)\n",
    "HS_z0_mu0 = ak.flatten(HS_z0_mu0)\n",
    "PU_d0_mu0 = ak.flatten(PU_d0_mu0)\n",
    "PU_z0_mu0 = ak.flatten(PU_z0_mu0)\n",
    "# Flatten the arrays before plotting mu=60\n",
    "HS_d0_mu60 = ak.flatten(HS_d0_mu60)\n",
    "HS_z0_mu60 = ak.flatten(HS_z0_mu60)\n",
    "PU_d0_mu60 = ak.flatten(PU_d0_mu60)\n",
    "PU_z0_mu60 = ak.flatten(PU_z0_mu60)"
   ]
  },
  {
   "cell_type": "code",
   "execution_count": 7,
   "id": "b6d39b86",
   "metadata": {},
   "outputs": [
    {
     "data": {
      "image/png": "[encoded data removed]",
      "text/plain": [
       "<Figure size 432x288 with 1 Axes>"
      ]
     },
     "metadata": {
      "needs_background": "light"
     },
     "output_type": "display_data"
    },
    {
     "data": {
      "image/png": "[encoded data removed]",
      "text/plain": [
       "<Figure size 432x288 with 1 Axes>"
      ]
     },
     "metadata": {
      "needs_background": "light"
     },
     "output_type": "display_data"
    }
   ],
   "source": [
    "# Plot the flattened arrays\n",
    "plt.hist(HS_d0_mu0,histtype='step',bins=80,range=(-3,3),color='r',label='HS \\u03BC=0',density=True)\n",
    "plt.hist(HS_d0_mu60,histtype='step',bins=80,range=(-3,3),color='g',label='HS \\u03BC=60',density=True)\n",
    "plt.hist(PU_d0_mu60,histtype='step',bins=80,range=(-3,3),color='b',label='PU \\u03BC=60',density=True)\n",
    "plt.title(\"Trk d0  (\\u03BC=60)\")\n",
    "plt.yscale('log')\n",
    "plt.legend()\n",
    "plt.show()\n",
    "plt.hist(HS_z0_mu0,histtype='step',bins=80,range=(-3,3),color='r',label='HS \\u03BC=0',density=True)\n",
    "plt.hist(HS_z0_mu60,histtype='step',bins=80,range=(-3,3),color='g',label='HS \\u03BC=60',density=True)\n",
    "plt.hist(PU_z0_mu60,histtype='step',bins=80,range=(-3,3),color='b',label='PU \\u03BC=60',density=True)\n",
    "plt.title(\"Trk z0  (\\u03BC=60)\")\n",
    "plt.yscale('log')\n",
    "plt.legend()\n",
    "plt.show()"
   ]
  },
  {
   "cell_type": "code",
   "execution_count": null,
   "id": "884494d7",
   "metadata": {},
   "outputs": [],
   "source": []
  }
 ],
 "metadata": {
  "kernelspec": {
   "display_name": "Python 3 (ipykernel)",
   "language": "python",
   "name": "python3"
  },
  "language_info": {
   "codemirror_mode": {
    "name": "ipython",
    "version": 3
   },
   "file_extension": ".py",
   "mimetype": "text/x-python",
   "name": "python",
   "nbconvert_exporter": "python",
   "pygments_lexer": "ipython3",
   "version": "3.10.12"
  }
 },
 "nbformat": 4,
 "nbformat_minor": 5
}
